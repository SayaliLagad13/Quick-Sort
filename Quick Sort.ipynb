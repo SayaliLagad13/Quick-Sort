{
 "cells": [
  {
   "cell_type": "code",
   "execution_count": 7,
   "id": "2a34f11e",
   "metadata": {},
   "outputs": [
    {
     "ename": "IndentationError",
     "evalue": "expected an indented block (1461570682.py, line 6)",
     "output_type": "error",
     "traceback": [
      "\u001b[1;36m  File \u001b[1;32m\"C:\\Users\\shivani computer\\AppData\\Local\\Temp\\ipykernel_11756\\1461570682.py\"\u001b[1;36m, line \u001b[1;32m6\u001b[0m\n\u001b[1;33m    i = i + 1\u001b[0m\n\u001b[1;37m    ^\u001b[0m\n\u001b[1;31mIndentationError\u001b[0m\u001b[1;31m:\u001b[0m expected an indented block\n"
     ]
    }
   ],
   "source": [
    " def partition(array, low, high):\n",
    "    pivot = array[high]\n",
    "    i = low - 1\n",
    "    for j in range(low, high):\n",
    "        if array[j] <= pivot:\n",
    "            i = i + 1\n",
    "             (array[i], array[j]) = (array[j], array[i])\n",
    "    (array[i + 1], array[high]) = (array[high], array[i + 1])\n",
    "     return i + 1\n",
    "def Quick(array, low, high):\n",
    "    if low < high:\n",
    "        pi = partition(array, low, high)\n",
    "        Quick(array, low, pi - 1)\n",
    "        Quick(array, pi + 1, high)\n",
    "n=int(input(\"Enter the Number of Students: \"))\n",
    "arr=[]\n",
    "i=0\n",
    "for i in range(n):\n",
    "    item=float(input(\"Enter the % of students: \"))\n",
    "    arr.append(item)\n",
    "print(\"Entered Percentage of Students are: \",arr)\n",
    "print(arr)\n",
    "print(\"Sorted Scores using Quick Sort: \")\n",
    "Quick(arr,0,n-1)\n",
    "print(arr)\n",
    "print(\"Top five Scores are:\",arr[:-6:-1])\n",
    "[31/12, 1:27 pm] gay🐮🐃🐄: #include"
   ]
  },
  {
   "cell_type": "code",
   "execution_count": null,
   "id": "2e937d6f",
   "metadata": {},
   "outputs": [],
   "source": []
  }
 ],
 "metadata": {
  "kernelspec": {
   "display_name": "Python 3 (ipykernel)",
   "language": "python",
   "name": "python3"
  },
  "language_info": {
   "codemirror_mode": {
    "name": "ipython",
    "version": 3
   },
   "file_extension": ".py",
   "mimetype": "text/x-python",
   "name": "python",
   "nbconvert_exporter": "python",
   "pygments_lexer": "ipython3",
   "version": "3.9.13"
  }
 },
 "nbformat": 4,
 "nbformat_minor": 5
}
